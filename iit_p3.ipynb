{
 "cells": [
  {
   "cell_type": "code",
   "execution_count": 3,
   "id": "3815e4b7-ba5e-4f3b-b9d7-0a9d9d5955b6",
   "metadata": {},
   "outputs": [],
   "source": [
    "import pandas as pd\n",
    "import numpy as np\n",
    "from sklearn.model_selection import train_test_split\n",
    "from sklearn.preprocessing import LabelEncoder, StandardScaler\n",
    "from sklearn.linear_model import LinearRegression\n",
    "from sklearn.metrics import mean_absolute_error\n",
    "import warnings\n",
    "warnings.filterwarnings('ignore')"
   ]
  },
  {
   "cell_type": "code",
   "execution_count": 99,
   "id": "ad84dd69-22ab-4455-97ef-7d09b8f2a2bd",
   "metadata": {},
   "outputs": [],
   "source": [
    "train = pd.read_csv(r'E:/IITK/P3 Data/counterfeit_train.csv')\n",
    "test = pd.read_csv(r'E:/IITK/P3 Data/counterfeit_test.csv')\n",
    "sample = pd.read_csv(r'E:/IITK/P3 Data/sample_submission (1).csv')"
   ]
  },
  {
   "cell_type": "code",
   "execution_count": 100,
   "id": "82249a3f-ec2b-4f2b-908c-63de72d765a4",
   "metadata": {},
   "outputs": [
    {
     "name": "stdout",
     "output_type": "stream",
     "text": [
      "Train Shape: (6818, 12)\n",
      "Test Shape: (1705, 11)\n",
      "  Medicine_ID  Counterfeit_Weight DistArea_ID  Active_Since  Medicine_MRP  \\\n",
      "0       RRA15              13.100     Area046          1995      160.2366   \n",
      "1       YVV26                 NaN     Area027          1983      110.4384   \n",
      "2       LJC15               9.025     Area046          1995      259.4092   \n",
      "3       GWC40              11.800     Area046          1995       99.9830   \n",
      "4       QMN13                 NaN     Area019          1983       56.4402   \n",
      "\n",
      "        Medicine_Type SidEffect_Level  Availability_rating  \\\n",
      "0        Antimalarial        critical             0.070422   \n",
      "1         Mstablizers            mild             0.013000   \n",
      "2             Cardiac            mild             0.060783   \n",
      "3  OralContraceptives            mild             0.065555   \n",
      "4       Hreplacements        critical             0.248859   \n",
      "\n",
      "            Area_Type Area_City_Type Area_dist_level  Counterfeit_Sales  \n",
      "0            DownTown         Tier 1           Small          1775.5026  \n",
      "1          CityLimits         Tier 3          Medium          3069.1520  \n",
      "2            DownTown         Tier 1           Small          2603.0920  \n",
      "3            DownTown         Tier 1           Small          1101.7130  \n",
      "4  MidTownResidential         Tier 1           Small           158.9402  \n"
     ]
    }
   ],
   "source": [
    "print(\"Train Shape:\", train.shape)\n",
    "print(\"Test Shape:\", test.shape)\n",
    "print(train.head())"
   ]
  },
  {
   "cell_type": "code",
   "execution_count": 101,
   "id": "553ac57a-0127-4c47-9cf7-42bb92d819f1",
   "metadata": {},
   "outputs": [
    {
     "name": "stdout",
     "output_type": "stream",
     "text": [
      "['Medicine_ID', 'Counterfeit_Weight', 'DistArea_ID', 'Active_Since', 'Medicine_MRP', 'Medicine_Type', 'SidEffect_Level', 'Availability_rating', 'Area_Type', 'Area_City_Type', 'Area_dist_level']\n"
     ]
    }
   ],
   "source": [
    "print(test.columns.tolist())"
   ]
  },
  {
   "cell_type": "code",
   "execution_count": 102,
   "id": "80a1925b-98e6-4e2c-9115-c284254adab7",
   "metadata": {},
   "outputs": [],
   "source": [
    "target = 'Counterfeit_Sales'"
   ]
  },
  {
   "cell_type": "code",
   "execution_count": 103,
   "id": "c6ac0482-8b90-4bdd-a4be-d426624c54ee",
   "metadata": {},
   "outputs": [],
   "source": [
    " #Store original test shape\n",
    "n_train = train.shape[0]"
   ]
  },
  {
   "cell_type": "code",
   "execution_count": 104,
   "id": "721e11b3-fc18-4258-8c34-7defc76fb68e",
   "metadata": {},
   "outputs": [],
   "source": [
    "# Add target placeholder to test\n",
    "test[target] = np.nan\n",
    "\n",
    "# Combine for preprocessing\n",
    "combined = pd.concat([train, test], ignore_index=True)"
   ]
  },
  {
   "cell_type": "code",
   "execution_count": 105,
   "id": "26a122aa-c454-4338-9496-62f91dd674a9",
   "metadata": {},
   "outputs": [],
   "source": [
    "# Label encode categorical columns\n",
    "cat_cols = combined.select_dtypes(include='object').columns\n",
    "for col in cat_cols:\n",
    "    combined[col] = combined[col].fillna(\"missing\")\n",
    "    combined[col] = LabelEncoder().fit_transform(combined[col])"
   ]
  },
  {
   "cell_type": "code",
   "execution_count": 106,
   "id": "209e810c-5721-4a5c-b786-4e2557196690",
   "metadata": {},
   "outputs": [],
   "source": [
    "# Fill numeric NaNs with mean\n",
    "combined = combined.fillna(combined.mean(numeric_only=True))"
   ]
  },
  {
   "cell_type": "code",
   "execution_count": 107,
   "id": "a75f3874-c33f-4c15-9e05-145f6625ab50",
   "metadata": {},
   "outputs": [],
   "source": [
    "# Split back to train and test\n",
    "train_df = combined.iloc[:n_train, :].copy()\n",
    "test_df = combined.iloc[n_train:, :].copy()\n",
    "\n",
    "# Define X, y\n",
    "y = train_df[target]\n",
    "X = train_df.drop(target, axis=1)\n",
    "X_test = test_df.drop(target, axis=1)"
   ]
  },
  {
   "cell_type": "code",
   "execution_count": 108,
   "id": "dc5807f7-349d-49c1-abfc-a85fab011a12",
   "metadata": {},
   "outputs": [],
   "source": [
    "# Train/Validation split\n",
    "X_train, X_val, y_train, y_val = train_test_split(X, y, test_size=0.2, random_state=42)"
   ]
  },
  {
   "cell_type": "code",
   "execution_count": 109,
   "id": "db191e50-1de3-4998-b60b-a3372deb2452",
   "metadata": {},
   "outputs": [],
   "source": [
    "# Scaling\n",
    "scaler = StandardScaler()\n",
    "X_train_scaled = scaler.fit_transform(X_train)\n",
    "X_val_scaled = scaler.transform(X_val)\n",
    "X_test_scaled = scaler.transform(X_test)"
   ]
  },
  {
   "cell_type": "code",
   "execution_count": 110,
   "id": "91abff0c-219f-4cb7-8270-69a7d816a8dd",
   "metadata": {},
   "outputs": [],
   "source": [
    "from sklearn.ensemble import RandomForestRegressor\n"
   ]
  },
  {
   "cell_type": "code",
   "execution_count": 111,
   "id": "753fb098-7bb5-4291-80bd-2a07adc4f46a",
   "metadata": {},
   "outputs": [
    {
     "data": {
      "text/html": [
       "<style>#sk-container-id-3 {\n",
       "  /* Definition of color scheme common for light and dark mode */\n",
       "  --sklearn-color-text: black;\n",
       "  --sklearn-color-line: gray;\n",
       "  /* Definition of color scheme for unfitted estimators */\n",
       "  --sklearn-color-unfitted-level-0: #fff5e6;\n",
       "  --sklearn-color-unfitted-level-1: #f6e4d2;\n",
       "  --sklearn-color-unfitted-level-2: #ffe0b3;\n",
       "  --sklearn-color-unfitted-level-3: chocolate;\n",
       "  /* Definition of color scheme for fitted estimators */\n",
       "  --sklearn-color-fitted-level-0: #f0f8ff;\n",
       "  --sklearn-color-fitted-level-1: #d4ebff;\n",
       "  --sklearn-color-fitted-level-2: #b3dbfd;\n",
       "  --sklearn-color-fitted-level-3: cornflowerblue;\n",
       "\n",
       "  /* Specific color for light theme */\n",
       "  --sklearn-color-text-on-default-background: var(--sg-text-color, var(--theme-code-foreground, var(--jp-content-font-color1, black)));\n",
       "  --sklearn-color-background: var(--sg-background-color, var(--theme-background, var(--jp-layout-color0, white)));\n",
       "  --sklearn-color-border-box: var(--sg-text-color, var(--theme-code-foreground, var(--jp-content-font-color1, black)));\n",
       "  --sklearn-color-icon: #696969;\n",
       "\n",
       "  @media (prefers-color-scheme: dark) {\n",
       "    /* Redefinition of color scheme for dark theme */\n",
       "    --sklearn-color-text-on-default-background: var(--sg-text-color, var(--theme-code-foreground, var(--jp-content-font-color1, white)));\n",
       "    --sklearn-color-background: var(--sg-background-color, var(--theme-background, var(--jp-layout-color0, #111)));\n",
       "    --sklearn-color-border-box: var(--sg-text-color, var(--theme-code-foreground, var(--jp-content-font-color1, white)));\n",
       "    --sklearn-color-icon: #878787;\n",
       "  }\n",
       "}\n",
       "\n",
       "#sk-container-id-3 {\n",
       "  color: var(--sklearn-color-text);\n",
       "}\n",
       "\n",
       "#sk-container-id-3 pre {\n",
       "  padding: 0;\n",
       "}\n",
       "\n",
       "#sk-container-id-3 input.sk-hidden--visually {\n",
       "  border: 0;\n",
       "  clip: rect(1px 1px 1px 1px);\n",
       "  clip: rect(1px, 1px, 1px, 1px);\n",
       "  height: 1px;\n",
       "  margin: -1px;\n",
       "  overflow: hidden;\n",
       "  padding: 0;\n",
       "  position: absolute;\n",
       "  width: 1px;\n",
       "}\n",
       "\n",
       "#sk-container-id-3 div.sk-dashed-wrapped {\n",
       "  border: 1px dashed var(--sklearn-color-line);\n",
       "  margin: 0 0.4em 0.5em 0.4em;\n",
       "  box-sizing: border-box;\n",
       "  padding-bottom: 0.4em;\n",
       "  background-color: var(--sklearn-color-background);\n",
       "}\n",
       "\n",
       "#sk-container-id-3 div.sk-container {\n",
       "  /* jupyter's `normalize.less` sets `[hidden] { display: none; }`\n",
       "     but bootstrap.min.css set `[hidden] { display: none !important; }`\n",
       "     so we also need the `!important` here to be able to override the\n",
       "     default hidden behavior on the sphinx rendered scikit-learn.org.\n",
       "     See: https://github.com/scikit-learn/scikit-learn/issues/21755 */\n",
       "  display: inline-block !important;\n",
       "  position: relative;\n",
       "}\n",
       "\n",
       "#sk-container-id-3 div.sk-text-repr-fallback {\n",
       "  display: none;\n",
       "}\n",
       "\n",
       "div.sk-parallel-item,\n",
       "div.sk-serial,\n",
       "div.sk-item {\n",
       "  /* draw centered vertical line to link estimators */\n",
       "  background-image: linear-gradient(var(--sklearn-color-text-on-default-background), var(--sklearn-color-text-on-default-background));\n",
       "  background-size: 2px 100%;\n",
       "  background-repeat: no-repeat;\n",
       "  background-position: center center;\n",
       "}\n",
       "\n",
       "/* Parallel-specific style estimator block */\n",
       "\n",
       "#sk-container-id-3 div.sk-parallel-item::after {\n",
       "  content: \"\";\n",
       "  width: 100%;\n",
       "  border-bottom: 2px solid var(--sklearn-color-text-on-default-background);\n",
       "  flex-grow: 1;\n",
       "}\n",
       "\n",
       "#sk-container-id-3 div.sk-parallel {\n",
       "  display: flex;\n",
       "  align-items: stretch;\n",
       "  justify-content: center;\n",
       "  background-color: var(--sklearn-color-background);\n",
       "  position: relative;\n",
       "}\n",
       "\n",
       "#sk-container-id-3 div.sk-parallel-item {\n",
       "  display: flex;\n",
       "  flex-direction: column;\n",
       "}\n",
       "\n",
       "#sk-container-id-3 div.sk-parallel-item:first-child::after {\n",
       "  align-self: flex-end;\n",
       "  width: 50%;\n",
       "}\n",
       "\n",
       "#sk-container-id-3 div.sk-parallel-item:last-child::after {\n",
       "  align-self: flex-start;\n",
       "  width: 50%;\n",
       "}\n",
       "\n",
       "#sk-container-id-3 div.sk-parallel-item:only-child::after {\n",
       "  width: 0;\n",
       "}\n",
       "\n",
       "/* Serial-specific style estimator block */\n",
       "\n",
       "#sk-container-id-3 div.sk-serial {\n",
       "  display: flex;\n",
       "  flex-direction: column;\n",
       "  align-items: center;\n",
       "  background-color: var(--sklearn-color-background);\n",
       "  padding-right: 1em;\n",
       "  padding-left: 1em;\n",
       "}\n",
       "\n",
       "\n",
       "/* Toggleable style: style used for estimator/Pipeline/ColumnTransformer box that is\n",
       "clickable and can be expanded/collapsed.\n",
       "- Pipeline and ColumnTransformer use this feature and define the default style\n",
       "- Estimators will overwrite some part of the style using the `sk-estimator` class\n",
       "*/\n",
       "\n",
       "/* Pipeline and ColumnTransformer style (default) */\n",
       "\n",
       "#sk-container-id-3 div.sk-toggleable {\n",
       "  /* Default theme specific background. It is overwritten whether we have a\n",
       "  specific estimator or a Pipeline/ColumnTransformer */\n",
       "  background-color: var(--sklearn-color-background);\n",
       "}\n",
       "\n",
       "/* Toggleable label */\n",
       "#sk-container-id-3 label.sk-toggleable__label {\n",
       "  cursor: pointer;\n",
       "  display: block;\n",
       "  width: 100%;\n",
       "  margin-bottom: 0;\n",
       "  padding: 0.5em;\n",
       "  box-sizing: border-box;\n",
       "  text-align: center;\n",
       "}\n",
       "\n",
       "#sk-container-id-3 label.sk-toggleable__label-arrow:before {\n",
       "  /* Arrow on the left of the label */\n",
       "  content: \"▸\";\n",
       "  float: left;\n",
       "  margin-right: 0.25em;\n",
       "  color: var(--sklearn-color-icon);\n",
       "}\n",
       "\n",
       "#sk-container-id-3 label.sk-toggleable__label-arrow:hover:before {\n",
       "  color: var(--sklearn-color-text);\n",
       "}\n",
       "\n",
       "/* Toggleable content - dropdown */\n",
       "\n",
       "#sk-container-id-3 div.sk-toggleable__content {\n",
       "  max-height: 0;\n",
       "  max-width: 0;\n",
       "  overflow: hidden;\n",
       "  text-align: left;\n",
       "  /* unfitted */\n",
       "  background-color: var(--sklearn-color-unfitted-level-0);\n",
       "}\n",
       "\n",
       "#sk-container-id-3 div.sk-toggleable__content.fitted {\n",
       "  /* fitted */\n",
       "  background-color: var(--sklearn-color-fitted-level-0);\n",
       "}\n",
       "\n",
       "#sk-container-id-3 div.sk-toggleable__content pre {\n",
       "  margin: 0.2em;\n",
       "  border-radius: 0.25em;\n",
       "  color: var(--sklearn-color-text);\n",
       "  /* unfitted */\n",
       "  background-color: var(--sklearn-color-unfitted-level-0);\n",
       "}\n",
       "\n",
       "#sk-container-id-3 div.sk-toggleable__content.fitted pre {\n",
       "  /* unfitted */\n",
       "  background-color: var(--sklearn-color-fitted-level-0);\n",
       "}\n",
       "\n",
       "#sk-container-id-3 input.sk-toggleable__control:checked~div.sk-toggleable__content {\n",
       "  /* Expand drop-down */\n",
       "  max-height: 200px;\n",
       "  max-width: 100%;\n",
       "  overflow: auto;\n",
       "}\n",
       "\n",
       "#sk-container-id-3 input.sk-toggleable__control:checked~label.sk-toggleable__label-arrow:before {\n",
       "  content: \"▾\";\n",
       "}\n",
       "\n",
       "/* Pipeline/ColumnTransformer-specific style */\n",
       "\n",
       "#sk-container-id-3 div.sk-label input.sk-toggleable__control:checked~label.sk-toggleable__label {\n",
       "  color: var(--sklearn-color-text);\n",
       "  background-color: var(--sklearn-color-unfitted-level-2);\n",
       "}\n",
       "\n",
       "#sk-container-id-3 div.sk-label.fitted input.sk-toggleable__control:checked~label.sk-toggleable__label {\n",
       "  background-color: var(--sklearn-color-fitted-level-2);\n",
       "}\n",
       "\n",
       "/* Estimator-specific style */\n",
       "\n",
       "/* Colorize estimator box */\n",
       "#sk-container-id-3 div.sk-estimator input.sk-toggleable__control:checked~label.sk-toggleable__label {\n",
       "  /* unfitted */\n",
       "  background-color: var(--sklearn-color-unfitted-level-2);\n",
       "}\n",
       "\n",
       "#sk-container-id-3 div.sk-estimator.fitted input.sk-toggleable__control:checked~label.sk-toggleable__label {\n",
       "  /* fitted */\n",
       "  background-color: var(--sklearn-color-fitted-level-2);\n",
       "}\n",
       "\n",
       "#sk-container-id-3 div.sk-label label.sk-toggleable__label,\n",
       "#sk-container-id-3 div.sk-label label {\n",
       "  /* The background is the default theme color */\n",
       "  color: var(--sklearn-color-text-on-default-background);\n",
       "}\n",
       "\n",
       "/* On hover, darken the color of the background */\n",
       "#sk-container-id-3 div.sk-label:hover label.sk-toggleable__label {\n",
       "  color: var(--sklearn-color-text);\n",
       "  background-color: var(--sklearn-color-unfitted-level-2);\n",
       "}\n",
       "\n",
       "/* Label box, darken color on hover, fitted */\n",
       "#sk-container-id-3 div.sk-label.fitted:hover label.sk-toggleable__label.fitted {\n",
       "  color: var(--sklearn-color-text);\n",
       "  background-color: var(--sklearn-color-fitted-level-2);\n",
       "}\n",
       "\n",
       "/* Estimator label */\n",
       "\n",
       "#sk-container-id-3 div.sk-label label {\n",
       "  font-family: monospace;\n",
       "  font-weight: bold;\n",
       "  display: inline-block;\n",
       "  line-height: 1.2em;\n",
       "}\n",
       "\n",
       "#sk-container-id-3 div.sk-label-container {\n",
       "  text-align: center;\n",
       "}\n",
       "\n",
       "/* Estimator-specific */\n",
       "#sk-container-id-3 div.sk-estimator {\n",
       "  font-family: monospace;\n",
       "  border: 1px dotted var(--sklearn-color-border-box);\n",
       "  border-radius: 0.25em;\n",
       "  box-sizing: border-box;\n",
       "  margin-bottom: 0.5em;\n",
       "  /* unfitted */\n",
       "  background-color: var(--sklearn-color-unfitted-level-0);\n",
       "}\n",
       "\n",
       "#sk-container-id-3 div.sk-estimator.fitted {\n",
       "  /* fitted */\n",
       "  background-color: var(--sklearn-color-fitted-level-0);\n",
       "}\n",
       "\n",
       "/* on hover */\n",
       "#sk-container-id-3 div.sk-estimator:hover {\n",
       "  /* unfitted */\n",
       "  background-color: var(--sklearn-color-unfitted-level-2);\n",
       "}\n",
       "\n",
       "#sk-container-id-3 div.sk-estimator.fitted:hover {\n",
       "  /* fitted */\n",
       "  background-color: var(--sklearn-color-fitted-level-2);\n",
       "}\n",
       "\n",
       "/* Specification for estimator info (e.g. \"i\" and \"?\") */\n",
       "\n",
       "/* Common style for \"i\" and \"?\" */\n",
       "\n",
       ".sk-estimator-doc-link,\n",
       "a:link.sk-estimator-doc-link,\n",
       "a:visited.sk-estimator-doc-link {\n",
       "  float: right;\n",
       "  font-size: smaller;\n",
       "  line-height: 1em;\n",
       "  font-family: monospace;\n",
       "  background-color: var(--sklearn-color-background);\n",
       "  border-radius: 1em;\n",
       "  height: 1em;\n",
       "  width: 1em;\n",
       "  text-decoration: none !important;\n",
       "  margin-left: 1ex;\n",
       "  /* unfitted */\n",
       "  border: var(--sklearn-color-unfitted-level-1) 1pt solid;\n",
       "  color: var(--sklearn-color-unfitted-level-1);\n",
       "}\n",
       "\n",
       ".sk-estimator-doc-link.fitted,\n",
       "a:link.sk-estimator-doc-link.fitted,\n",
       "a:visited.sk-estimator-doc-link.fitted {\n",
       "  /* fitted */\n",
       "  border: var(--sklearn-color-fitted-level-1) 1pt solid;\n",
       "  color: var(--sklearn-color-fitted-level-1);\n",
       "}\n",
       "\n",
       "/* On hover */\n",
       "div.sk-estimator:hover .sk-estimator-doc-link:hover,\n",
       ".sk-estimator-doc-link:hover,\n",
       "div.sk-label-container:hover .sk-estimator-doc-link:hover,\n",
       ".sk-estimator-doc-link:hover {\n",
       "  /* unfitted */\n",
       "  background-color: var(--sklearn-color-unfitted-level-3);\n",
       "  color: var(--sklearn-color-background);\n",
       "  text-decoration: none;\n",
       "}\n",
       "\n",
       "div.sk-estimator.fitted:hover .sk-estimator-doc-link.fitted:hover,\n",
       ".sk-estimator-doc-link.fitted:hover,\n",
       "div.sk-label-container:hover .sk-estimator-doc-link.fitted:hover,\n",
       ".sk-estimator-doc-link.fitted:hover {\n",
       "  /* fitted */\n",
       "  background-color: var(--sklearn-color-fitted-level-3);\n",
       "  color: var(--sklearn-color-background);\n",
       "  text-decoration: none;\n",
       "}\n",
       "\n",
       "/* Span, style for the box shown on hovering the info icon */\n",
       ".sk-estimator-doc-link span {\n",
       "  display: none;\n",
       "  z-index: 9999;\n",
       "  position: relative;\n",
       "  font-weight: normal;\n",
       "  right: .2ex;\n",
       "  padding: .5ex;\n",
       "  margin: .5ex;\n",
       "  width: min-content;\n",
       "  min-width: 20ex;\n",
       "  max-width: 50ex;\n",
       "  color: var(--sklearn-color-text);\n",
       "  box-shadow: 2pt 2pt 4pt #999;\n",
       "  /* unfitted */\n",
       "  background: var(--sklearn-color-unfitted-level-0);\n",
       "  border: .5pt solid var(--sklearn-color-unfitted-level-3);\n",
       "}\n",
       "\n",
       ".sk-estimator-doc-link.fitted span {\n",
       "  /* fitted */\n",
       "  background: var(--sklearn-color-fitted-level-0);\n",
       "  border: var(--sklearn-color-fitted-level-3);\n",
       "}\n",
       "\n",
       ".sk-estimator-doc-link:hover span {\n",
       "  display: block;\n",
       "}\n",
       "\n",
       "/* \"?\"-specific style due to the `<a>` HTML tag */\n",
       "\n",
       "#sk-container-id-3 a.estimator_doc_link {\n",
       "  float: right;\n",
       "  font-size: 1rem;\n",
       "  line-height: 1em;\n",
       "  font-family: monospace;\n",
       "  background-color: var(--sklearn-color-background);\n",
       "  border-radius: 1rem;\n",
       "  height: 1rem;\n",
       "  width: 1rem;\n",
       "  text-decoration: none;\n",
       "  /* unfitted */\n",
       "  color: var(--sklearn-color-unfitted-level-1);\n",
       "  border: var(--sklearn-color-unfitted-level-1) 1pt solid;\n",
       "}\n",
       "\n",
       "#sk-container-id-3 a.estimator_doc_link.fitted {\n",
       "  /* fitted */\n",
       "  border: var(--sklearn-color-fitted-level-1) 1pt solid;\n",
       "  color: var(--sklearn-color-fitted-level-1);\n",
       "}\n",
       "\n",
       "/* On hover */\n",
       "#sk-container-id-3 a.estimator_doc_link:hover {\n",
       "  /* unfitted */\n",
       "  background-color: var(--sklearn-color-unfitted-level-3);\n",
       "  color: var(--sklearn-color-background);\n",
       "  text-decoration: none;\n",
       "}\n",
       "\n",
       "#sk-container-id-3 a.estimator_doc_link.fitted:hover {\n",
       "  /* fitted */\n",
       "  background-color: var(--sklearn-color-fitted-level-3);\n",
       "}\n",
       "</style><div id=\"sk-container-id-3\" class=\"sk-top-container\"><div class=\"sk-text-repr-fallback\"><pre>RandomForestRegressor(max_depth=10, n_estimators=200, random_state=42)</pre><b>In a Jupyter environment, please rerun this cell to show the HTML representation or trust the notebook. <br />On GitHub, the HTML representation is unable to render, please try loading this page with nbviewer.org.</b></div><div class=\"sk-container\" hidden><div class=\"sk-item\"><div class=\"sk-estimator fitted sk-toggleable\"><input class=\"sk-toggleable__control sk-hidden--visually\" id=\"sk-estimator-id-3\" type=\"checkbox\" checked><label for=\"sk-estimator-id-3\" class=\"sk-toggleable__label fitted sk-toggleable__label-arrow fitted\">&nbsp;&nbsp;RandomForestRegressor<a class=\"sk-estimator-doc-link fitted\" rel=\"noreferrer\" target=\"_blank\" href=\"https://scikit-learn.org/1.4/modules/generated/sklearn.ensemble.RandomForestRegressor.html\">?<span>Documentation for RandomForestRegressor</span></a><span class=\"sk-estimator-doc-link fitted\">i<span>Fitted</span></span></label><div class=\"sk-toggleable__content fitted\"><pre>RandomForestRegressor(max_depth=10, n_estimators=200, random_state=42)</pre></div> </div></div></div></div>"
      ],
      "text/plain": [
       "RandomForestRegressor(max_depth=10, n_estimators=200, random_state=42)"
      ]
     },
     "execution_count": 111,
     "metadata": {},
     "output_type": "execute_result"
    }
   ],
   "source": [
    "# Model training\n",
    "model = RandomForestRegressor(n_estimators=200, max_depth=10, random_state=42)\n",
    "model.fit(X_train_scaled, y_train)"
   ]
  },
  {
   "cell_type": "code",
   "execution_count": 112,
   "id": "9cdf2d47-87ad-4710-8f02-42d951334c70",
   "metadata": {},
   "outputs": [],
   "source": [
    "# Validation prediction and MAE\n",
    "val_preds = model.predict(X_val_scaled)\n",
    "mae = mean_absolute_error(y_val, val_preds)"
   ]
  },
  {
   "cell_type": "code",
   "execution_count": 113,
   "id": "55e3f4d3-7f0f-488f-b942-66444246762c",
   "metadata": {},
   "outputs": [],
   "source": [
    "# Predict on test\n",
    "test_preds = model.predict(X_test_scaled)"
   ]
  },
  {
   "cell_type": "code",
   "execution_count": 130,
   "id": "83cc0c17-5306-436f-87b3-421b346a1dd9",
   "metadata": {},
   "outputs": [
    {
     "name": "stdout",
     "output_type": "stream",
     "text": [
      "Final submission file created successfully.\n"
     ]
    }
   ],
   "source": [
    "# Prepare submission\n",
    "submission = pd.DataFrame({\n",
    "    'Medicine_ID': test['Medicine_ID'],\n",
    "    'Counterfeit_Sales': test_preds\n",
    "})\n",
    "\n",
    "# Save to CSV\n",
    "# Save to CSV\n",
    "submission.to_csv('E:/IITK/P3 Data/submission.csv', index=False)\n",
    "print(\"Final submission file created successfully.\")"
   ]
  },
  {
   "cell_type": "code",
   "execution_count": 132,
   "id": "f610e1fb-4893-4df7-b1e5-35215dba6d0c",
   "metadata": {},
   "outputs": [
    {
     "name": "stdout",
     "output_type": "stream",
     "text": [
      "  Medicine_ID  Counterfeit_Sales\n",
      "0       HLZ81        2141.971457\n",
      "1       ECE94        3273.564393\n",
      "2       SAD14        1744.404023\n",
      "3       EQV63         416.730600\n",
      "4       AIR10         332.865667\n"
     ]
    }
   ],
   "source": [
    "print(submission.head())"
   ]
  },
  {
   "cell_type": "code",
   "execution_count": 134,
   "id": "77795512-eb92-4638-9123-34d3cb928f2d",
   "metadata": {},
   "outputs": [
    {
     "name": "stdout",
     "output_type": "stream",
     "text": [
      "Number of columns with missing values: 0\n"
     ]
    }
   ],
   "source": [
    "import pandas as pd\n",
    "\n",
    "# Load the training data\n",
    "train = pd.read_csv(r'E:/IITK/P3 Data/counterfeit_train.csv')\n",
    "\n",
    "# Count columns with at least one missing value\n",
    "num_missing_cols = train_df.isnull().sum()\n",
    "missing_cols_count = (num_missing_cols > 0).sum()\n",
    "\n",
    "print(\"Number of columns with missing values:\", missing_cols_count)\n"
   ]
  },
  {
   "cell_type": "code",
   "execution_count": 136,
   "id": "8fc9a780-acd2-4e76-95d0-5b01a30c607f",
   "metadata": {},
   "outputs": [
    {
     "name": "stdout",
     "output_type": "stream",
     "text": [
      "Series([], dtype: int64)\n"
     ]
    }
   ],
   "source": [
    "missing_values = train_df.isnull().sum()\n",
    "print(missing_values[missing_values > 0])"
   ]
  },
  {
   "cell_type": "code",
   "execution_count": 138,
   "id": "5205d7f8-3601-456d-a3c1-cb45620ba2c8",
   "metadata": {},
   "outputs": [
    {
     "name": "stdout",
     "output_type": "stream",
     "text": [
      "Unique Medicine Types: 16\n"
     ]
    }
   ],
   "source": [
    "# Get unique values in the Medicine_Type column\n",
    "unique_types = train_df['Medicine_Type'].nunique()\n",
    "print(\"Unique Medicine Types:\", unique_types)"
   ]
  },
  {
   "cell_type": "code",
   "execution_count": 140,
   "id": "9a5c8216-d363-427e-a5ab-f1811927796d",
   "metadata": {},
   "outputs": [
    {
     "name": "stdout",
     "output_type": "stream",
     "text": [
      "Medicine_Type\n",
      "7      49\n",
      "14     95\n",
      "3     111\n",
      "11    139\n",
      "13    167\n",
      "1     206\n",
      "4     339\n",
      "0     356\n",
      "15    420\n",
      "10    514\n",
      "8     522\n",
      "5     536\n",
      "12    694\n",
      "6     724\n",
      "2     970\n",
      "9     976\n",
      "Name: count, dtype: int64\n"
     ]
    }
   ],
   "source": [
    "# Count occurrences of each medicine type\n",
    "medicine_counts = train_df['Medicine_Type'].value_counts()\n",
    "\n",
    "print(medicine_counts.sort_values())  # Sort to see the lowest at top"
   ]
  },
  {
   "cell_type": "code",
   "execution_count": 142,
   "id": "81be1f3b-0629-4035-aea3-b97edcd0298c",
   "metadata": {},
   "outputs": [
    {
     "name": "stdout",
     "output_type": "stream",
     "text": [
      "Medicine_Type\n",
      "9     976\n",
      "2     970\n",
      "6     724\n",
      "12    694\n",
      "5     536\n",
      "8     522\n",
      "10    514\n",
      "15    420\n",
      "0     356\n",
      "4     339\n",
      "1     206\n",
      "13    167\n",
      "11    139\n",
      "3     111\n",
      "14     95\n",
      "7      49\n",
      "Name: count, dtype: int64\n"
     ]
    }
   ],
   "source": [
    "# If you have access to original labels, or if the column was not encoded, try:\n",
    "print(train_df['Medicine_Type'].value_counts())\n"
   ]
  },
  {
   "cell_type": "code",
   "execution_count": 144,
   "id": "f2060a25-1877-4e07-a29d-820674e4ce1d",
   "metadata": {},
   "outputs": [
    {
     "data": {
      "text/plain": [
       "146.29"
      ]
     },
     "execution_count": 144,
     "metadata": {},
     "output_type": "execute_result"
    }
   ],
   "source": [
    "train_df['Counterfeit_Sales'].min()\n"
   ]
  },
  {
   "cell_type": "code",
   "execution_count": 146,
   "id": "ad9666fd-ffd4-4cfc-93d2-eb84035dc8b6",
   "metadata": {},
   "outputs": [
    {
     "data": {
      "image/png": "[encoded data removed]",
      "text/plain": [
       "<Figure size 640x480 with 1 Axes>"
      ]
     },
     "metadata": {},
     "output_type": "display_data"
    }
   ],
   "source": [
    "import seaborn as sns\n",
    "import matplotlib.pyplot as plt\n",
    "\n",
    "sns.boxplot(train_df['Medicine_MRP'])\n",
    "plt.show()\n"
   ]
  },
  {
   "cell_type": "code",
   "execution_count": 5,
   "id": "dad2baec-7511-435a-ace6-0b13878de043",
   "metadata": {},
   "outputs": [
    {
     "name": "stdout",
     "output_type": "stream",
     "text": [
      "Final submission file created successfully.\n"
     ]
    }
   ],
   "source": [
    "from sklearn.linear_model import LinearRegression\n",
    "from sklearn.preprocessing import LabelEncoder\n",
    "import pandas as pd\n",
    "\n",
    "train = pd.read_csv(r'E:/IITK/P3 Data/counterfeit_train.csv')\n",
    "test = pd.read_csv(r'E:/IITK/P3 Data/counterfeit_test.csv')\n",
    "sample = pd.read_csv(r'E:/IITK/P3 Data/sample_submission (1).csv')\n",
    "\n",
    "# Combine for consistent preprocessing\n",
    "test['Counterfeit_Sales'] = np.nan\n",
    "combined = pd.concat([train, test])\n",
    "\n",
    "# Label encode categoricals\n",
    "cat_cols = combined.select_dtypes(include='object').columns\n",
    "for col in cat_cols:\n",
    "    combined[col] = LabelEncoder().fit_transform(combined[col].astype(str))\n",
    "\n",
    "# Fill missing values\n",
    "combined.fillna(combined.mean(), inplace=True)\n",
    "\n",
    "# Split back\n",
    "train = combined.iloc[:train.shape[0]]\n",
    "test = combined.iloc[train.shape[0]:].drop('Counterfeit_Sales', axis=1)\n",
    "\n",
    "X = train.drop('Counterfeit_Sales', axis=1)\n",
    "y = train['Counterfeit_Sales']\n",
    "\n",
    "# Fit Linear Regression\n",
    "model = LinearRegression()\n",
    "model.fit(X, y)\n",
    "\n",
    "# Predict\n",
    "test_preds = model.predict(test)\n",
    "\n",
    "# Create submission\n",
    "submission = pd.DataFrame({\n",
    "    'Medicine_ID': test['Medicine_ID'],\n",
    "    'Counterfeit_Sales': test_preds\n",
    "})\n",
    "submission.to_csv('E:/IITK/P3 Data/submission2.csv', index=False)\n",
    "print(\"Final submission file created successfully.\")\n"
   ]
  },
  {
   "cell_type": "code",
   "execution_count": 7,
   "id": "73bf0689-f77f-45b7-ae8d-2b91289db863",
   "metadata": {},
   "outputs": [
    {
     "name": "stdout",
     "output_type": "stream",
     "text": [
      "✅ Final submission file 'submission3.csv' created successfully.\n"
     ]
    }
   ],
   "source": [
    "import pandas as pd\n",
    "from sklearn.linear_model import LinearRegression\n",
    "from sklearn.preprocessing import LabelEncoder, StandardScaler\n",
    "from sklearn.impute import SimpleImputer\n",
    "\n",
    "# 1️⃣ Load datasets\n",
    "train_df = pd.read_csv(r'E:/IITK/P3 Data/counterfeit_train.csv')\n",
    "test_df = pd.read_csv(r'E:/IITK/P3 Data/counterfeit_test.csv')\n",
    "\n",
    "# 2️⃣ Separate features and target\n",
    "X_train = train_df.drop([\"Counterfeit_Sales\", \"Medicine_ID\"], axis=1)\n",
    "y_train = train_df[\"Counterfeit_Sales\"]\n",
    "X_test = test_df.drop(\"Medicine_ID\", axis=1)\n",
    "\n",
    "# 3️⃣ Encode categorical columns (if any)\n",
    "cat_cols = X_train.select_dtypes(include=\"object\").columns\n",
    "\n",
    "for col in cat_cols:\n",
    "    le = LabelEncoder()\n",
    "    X_train[col] = le.fit_transform(X_train[col].astype(str))\n",
    "    X_test[col] = le.transform(X_test[col].astype(str))\n",
    "\n",
    "# 4️⃣ Impute missing values\n",
    "imputer = SimpleImputer(strategy='mean')\n",
    "X_train = pd.DataFrame(imputer.fit_transform(X_train), columns=X_train.columns)\n",
    "X_test = pd.DataFrame(imputer.transform(X_test), columns=X_test.columns)\n",
    "\n",
    "# 5️⃣ Scale features\n",
    "scaler = StandardScaler()\n",
    "X_train_scaled = scaler.fit_transform(X_train)\n",
    "X_test_scaled = scaler.transform(X_test)\n",
    "\n",
    "# 6️⃣ Train model\n",
    "model = LinearRegression()\n",
    "model.fit(X_train_scaled, y_train)\n",
    "\n",
    "# 7️⃣ Predict on test data\n",
    "test_preds = model.predict(X_test_scaled)\n",
    "\n",
    "# 8️⃣ Create submission\n",
    "submission = pd.DataFrame({\n",
    "    \"Medicine_ID\": test_df[\"Medicine_ID\"],\n",
    "    \"Counterfeit_Sales\": test_preds\n",
    "})\n",
    "\n",
    "# 9️⃣ Save submission\n",
    "submission.to_csv(r'E:/IITK/P3 Data/submission3.csv', index=False)\n",
    "print(\"✅ Final submission file 'submission3.csv' created successfully.\")\n"
   ]
  },
  {
   "cell_type": "code",
   "execution_count": 9,
   "id": "0f1cdbb9-31db-4ba5-9244-c630df87032c",
   "metadata": {},
   "outputs": [
    {
     "name": "stdout",
     "output_type": "stream",
     "text": [
      "Validation MAE: 756.40\n",
      "Estimated Score: 0.5443\n",
      "✅ Final submission file created successfully.\n"
     ]
    }
   ],
   "source": [
    "import pandas as pd\n",
    "import numpy as np\n",
    "from sklearn.model_selection import train_test_split\n",
    "from sklearn.ensemble import RandomForestRegressor\n",
    "from sklearn.preprocessing import LabelEncoder\n",
    "from sklearn.impute import SimpleImputer\n",
    "from sklearn.metrics import mean_absolute_error\n",
    "\n",
    "# 1️⃣ Load data\n",
    "train_df = pd.read_csv(\"E:/IITK/P3 Data/counterfeit_train.csv\")\n",
    "test_df = pd.read_csv(\"E:/IITK/P3 Data/counterfeit_test.csv\")\n",
    "\n",
    "# 2️⃣ Separate features and target\n",
    "X = train_df.drop([\"Counterfeit_Sales\", \"Medicine_ID\"], axis=1)\n",
    "y = train_df[\"Counterfeit_Sales\"]\n",
    "X_test = test_df.drop(\"Medicine_ID\", axis=1)\n",
    "\n",
    "# 3️⃣ Encode categorical features\n",
    "cat_cols = X.select_dtypes(include=\"object\").columns\n",
    "for col in cat_cols:\n",
    "    le = LabelEncoder()\n",
    "    X[col] = le.fit_transform(X[col].astype(str))\n",
    "    X_test[col] = le.transform(X_test[col].astype(str))\n",
    "\n",
    "# 4️⃣ Impute missing values\n",
    "imputer = SimpleImputer(strategy='mean')\n",
    "X = pd.DataFrame(imputer.fit_transform(X), columns=X.columns)\n",
    "X_test = pd.DataFrame(imputer.transform(X_test), columns=X_test.columns)\n",
    "\n",
    "# 5️⃣ Train-validation split\n",
    "X_train, X_val, y_train, y_val = train_test_split(X, y, test_size=0.2, random_state=42)\n",
    "\n",
    "# 6️⃣ Model training\n",
    "model = RandomForestRegressor(n_estimators=200, max_depth=10, random_state=42)\n",
    "model.fit(X_train, y_train)\n",
    "\n",
    "# 7️⃣ Validation predictions and MAE\n",
    "val_preds = model.predict(X_val)\n",
    "mae = mean_absolute_error(y_val, val_preds)\n",
    "score = 1 - (mae / 1660)\n",
    "print(f\"Validation MAE: {mae:.2f}\")\n",
    "print(f\"Estimated Score: {score:.4f}\")\n",
    "\n",
    "# 8️⃣ Train on full data\n",
    "model.fit(X, y)\n",
    "\n",
    "# 9️⃣ Predict on test data\n",
    "test_preds = model.predict(X_test)\n",
    "\n",
    "# 10️⃣ Create submission\n",
    "submission = pd.DataFrame({\n",
    "    \"Medicine_ID\": test_df[\"Medicine_ID\"],\n",
    "    \"Counterfeit_Sales\": test_preds\n",
    "})\n",
    "\n",
    "# 11️⃣ Save submission\n",
    "submission.to_csv(\"E:/IITK/P3 Data/submission_project3_final.csv\", index=False)\n",
    "print(\"✅ Final submission file created successfully.\")\n"
   ]
  },
  {
   "cell_type": "code",
   "execution_count": null,
   "id": "c546a9d4-28e7-4542-9e34-26e81deed433",
   "metadata": {},
   "outputs": [],
   "source": []
  }
 ],
 "metadata": {
  "kernelspec": {
   "display_name": "Python 3 (ipykernel)",
   "language": "python",
   "name": "python3"
  },
  "language_info": {
   "codemirror_mode": {
    "name": "ipython",
    "version": 3
   },
   "file_extension": ".py",
   "mimetype": "text/x-python",
   "name": "python",
   "nbconvert_exporter": "python",
   "pygments_lexer": "ipython3",
   "version": "3.12.4"
  }
 },
 "nbformat": 4,
 "nbformat_minor": 5
}
